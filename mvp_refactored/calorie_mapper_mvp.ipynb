{
 "cells": [
  {
   "cell_type": "markdown",
   "metadata": {},
   "source": [
    "# Calorie Mapping Application - MVP\n",
    "\n",
    "This is a minimum viable product(MVP) prototype of the calorie mapping application developed by IGP Group #6, in the form of a Jupyter notebook. \n",
    "\n",
    "It will accept a filepath to an image, identify the food item pictured (using the Google Vision API), match the label to the calorie counts in our dataset, and return an estimated calorie count. \n",
    "The calorie count data resides in a firebase key value database."
   ]
  },
  {
   "cell_type": "code",
   "execution_count": 1,
   "metadata": {},
   "outputs": [],
   "source": []
  },
  {
   "cell_type": "markdown",
   "metadata": {},
   "source": [
    "### Select an image"
   ]
  },
  {
   "cell_type": "code",
   "execution_count": 2,
   "metadata": {},
   "outputs": [
    {
     "data": {
      "application/vnd.jupyter.widget-view+json": {
       "model_id": "b76c81cf57214adba10527a878931bf3",
       "version_major": 2,
       "version_minor": 0
      },
      "text/plain": [
       "FileChooser(path='/Users/sunellauni/Documents/UWE/IGP/foodie-team-6/mvp_refactored', filename='', title='', sh…"
      ]
     },
     "metadata": {},
     "output_type": "display_data"
    }
   ],
   "source": [
    "# import all functions from mapper utils and filechooser widget\n",
    "import mapper_utils\n",
    "from ipyfilechooser import FileChooser\n",
    "\n",
    "# display a filechooser widget to choose an image\n",
    "# ref - https://github.com/crahan/ipyfilechooser\n",
    "fc_img = FileChooser()\n",
    "fc_img.filter_pattern = ['*.jpg', '*.png', '*.jpeg']\n",
    "display(fc_img)"
   ]
  },
  {
   "cell_type": "markdown",
   "metadata": {},
   "source": [
    "### Find the number of calories"
   ]
  },
  {
   "cell_type": "code",
   "execution_count": 3,
   "metadata": {},
   "outputs": [],
   "source": [
    "# initialize and invoke the google vision api on the selected image\n",
    "response = mapper_utils.invoke_vision_api(fc_img.selected, mapper_utils.get_vision_api_key())\n",
    "\n",
    "# parse the responses into an array of labels\n",
    "labels = mapper_utils.format_api_response(response)\n",
    "\n",
    "# retrieve cal db values from firebase\n",
    "cal_count_db = mapper_utils.connect_to_firebase(mapper_utils.get_firebase_key())\n",
    "\n",
    "# find matches and display calorie counts\n",
    "match, calories = mapper_utils.find_cal_match(cal_count_db, labels)\n",
    "if match and calories:\n",
    "    print(f'We found a match! This image looks like a {match}. Estimated calorie count: {calories}.')\n",
    "else:\n",
    "    print(\"Sorry, we could not identify the calorie count.\")\n"
   ]
  }
 ],
 "metadata": {
  "interpreter": {
   "hash": "ad4efc98168ab38b08e64aa2fc02055880fa9a8646a17501f53b605319231c71"
  },
  "kernelspec": {
   "display_name": "Python 3",
   "language": "python",
   "name": "python3"
  },
  "language_info": {
   "codemirror_mode": {
    "name": "ipython",
    "version": 3
   },
   "file_extension": ".py",
   "mimetype": "text/x-python",
   "name": "python",
   "nbconvert_exporter": "python",
   "pygments_lexer": "ipython3",
   "version": "3.8.8"
  }
 },
 "nbformat": 4,
 "nbformat_minor": 2
}
