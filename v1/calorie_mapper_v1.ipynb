{
 "cells": [
  {
   "cell_type": "markdown",
   "metadata": {},
   "source": [
    "# Calorie Mapping Application - V1\n",
    "\n",
    "This is a v1 prototype of the calorie mapping application developed by IGP Group #6, in the form of a Jupyter notebook. \n",
    "\n",
    "It will accept a filepath to an image, identify the food item pictured (using the Google Vision API), match the label to the calorie counts in our dataset, and return an estimated calorie count. "
   ]
  },
  {
   "cell_type": "code",
   "execution_count": 14,
   "metadata": {},
   "outputs": [],
   "source": [
    "# all imports in this cell\n",
    "import pandas as pd\n",
    "from ipyfilechooser import FileChooser\n",
    "from __future__ import print_function\n",
    "from google.cloud import vision\n",
    "from google.oauth2 import service_account"
   ]
  },
  {
   "cell_type": "markdown",
   "metadata": {},
   "source": [
    "### Subtask 1\n",
    "* Accept a filepath to an image as user input, with basic validation"
   ]
  },
  {
   "cell_type": "code",
   "execution_count": 15,
   "metadata": {},
   "outputs": [
    {
     "data": {
      "application/vnd.jupyter.widget-view+json": {
       "model_id": "eb5493d13ded4776bba80093be1a6a76",
       "version_major": 2,
       "version_minor": 0
      },
      "text/plain": [
       "FileChooser(path='/Users/sunellauni/Documents/UWE/IGP/foodie-team-6/v1', filename='', title='', show_hidden=Fa…"
      ]
     },
     "metadata": {},
     "output_type": "display_data"
    }
   ],
   "source": [
    "# ref - https://github.com/crahan/ipyfilechooser\n",
    "fc_img = FileChooser()\n",
    "fc_img.filter_pattern = ['*.jpg', '*.png', '*.jpeg']\n",
    "display(fc_img)"
   ]
  },
  {
   "cell_type": "markdown",
   "metadata": {},
   "source": [
    "### Subtask 2\n",
    "* Init Google Vision, pass the image to the API, and get the json response back"
   ]
  },
  {
   "cell_type": "code",
   "execution_count": 16,
   "metadata": {},
   "outputs": [
    {
     "data": {
      "application/vnd.jupyter.widget-view+json": {
       "model_id": "fcdf8d4bdea94590bfa02014050bee77",
       "version_major": 2,
       "version_minor": 0
      },
      "text/plain": [
       "FileChooser(path='/Users/sunellauni/Documents/UWE/IGP/foodie-team-6/v1', filename='', title='', show_hidden=Fa…"
      ]
     },
     "metadata": {},
     "output_type": "display_data"
    }
   ],
   "source": [
    "# Select vision API key\n",
    "fc_key = FileChooser()\n",
    "fc_key.filter_pattern = '*.json'\n",
    "display(fc_key)"
   ]
  },
  {
   "cell_type": "code",
   "execution_count": 20,
   "metadata": {},
   "outputs": [
    {
     "name": "stdout",
     "output_type": "stream",
     "text": [
      "error {\n",
      "  code: 3\n",
      "  message: \"Unsupported URI protocol specified: /Users/sunellauni/Documents/UWE/IGP/foodie-team-6/test/hamburger.png.\"\n",
      "}\n",
      "\n"
     ]
    }
   ],
   "source": [
    "# ref - https://codelabs.developers.google.com/codelabs/cloud-vision-api-python#1\n",
    "\n",
    "img = 'https://raw.githubusercontent.com/nutellaweera/foodie-team-6/su-attempt-1/test/hamburger.png' #fc_img.selected\n",
    "key = fc_key.selected\n",
    "\n",
    "credentials = service_account.Credentials.from_service_account_file(key)\n",
    "\n",
    "client = vision.ImageAnnotatorClient(credentials=credentials)\n",
    "image = vision.Image()\n",
    "image.source.image_uri = img\n",
    "\n",
    "response = client.label_detection(image=image)\n",
    "print(response)"
   ]
  },
  {
   "cell_type": "code",
   "execution_count": null,
   "metadata": {},
   "outputs": [],
   "source": []
  },
  {
   "cell_type": "markdown",
   "metadata": {},
   "source": [
    "### Subtask 3\n",
    "* Parse the json response, identify the labels (as an array)"
   ]
  },
  {
   "cell_type": "code",
   "execution_count": 18,
   "metadata": {},
   "outputs": [],
   "source": [
    "labels = []\n",
    "for label in response.label_annotations:\n",
    "    print(label.description, '(%.2f%%)' % (label.score*100))\n",
    "    labels.append(label.description.lower())"
   ]
  },
  {
   "cell_type": "code",
   "execution_count": 19,
   "metadata": {},
   "outputs": [
    {
     "name": "stdout",
     "output_type": "stream",
     "text": [
      "[]\n"
     ]
    }
   ],
   "source": [
    "print(labels)"
   ]
  },
  {
   "cell_type": "markdown",
   "metadata": {},
   "source": [
    "### Subtask 4\n",
    "* Text matching to find the first match between the label array and the calorie_counts dataset, identify the matching row"
   ]
  },
  {
   "cell_type": "code",
   "execution_count": null,
   "metadata": {},
   "outputs": [],
   "source": [
    "sample_labels = ['food','cutlery','hamburger','plate']\n"
   ]
  },
  {
   "cell_type": "markdown",
   "metadata": {},
   "source": [
    "### Subtask 5\n",
    "* Identify the calorie count, format it (allow conversion between different units of measure)"
   ]
  },
  {
   "cell_type": "markdown",
   "metadata": {},
   "source": []
  }
 ],
 "metadata": {
  "interpreter": {
   "hash": "ad4efc98168ab38b08e64aa2fc02055880fa9a8646a17501f53b605319231c71"
  },
  "kernelspec": {
   "display_name": "Python 3.8.8 64-bit ('base': conda)",
   "language": "python",
   "name": "python3"
  },
  "language_info": {
   "codemirror_mode": {
    "name": "ipython",
    "version": 3
   },
   "file_extension": ".py",
   "mimetype": "text/x-python",
   "name": "python",
   "nbconvert_exporter": "python",
   "pygments_lexer": "ipython3",
   "version": "3.8.8"
  },
  "orig_nbformat": 4
 },
 "nbformat": 4,
 "nbformat_minor": 2
}
