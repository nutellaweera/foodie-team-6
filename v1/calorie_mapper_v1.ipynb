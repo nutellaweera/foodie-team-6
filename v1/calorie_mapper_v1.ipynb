{
 "cells": [
  {
   "cell_type": "markdown",
   "metadata": {},
   "source": [
    "# Calorie Mapping Application - V1\n",
    "\n",
    "This is a v1 prototype of the calorie mapping application developed by IGP Group #6, in the form of a Jupyter notebook. \n",
    "\n",
    "It will accept a filepath to an image, identify the food item pictured (using the Google Vision API), match the label to the calorie counts in our dataset, and return an estimated calorie count. "
   ]
  },
  {
   "cell_type": "code",
   "execution_count": 9,
   "metadata": {},
   "outputs": [],
   "source": [
    "# all imports in this cell\n",
    "import pandas as pd\n",
    "from ipyfilechooser import FileChooser\n",
    "from __future__ import print_function\n",
    "from google.cloud import vision"
   ]
  },
  {
   "cell_type": "markdown",
   "metadata": {},
   "source": [
    "### Subtask 1\n",
    "* Accept a filepath to an image as user input, with basic validation"
   ]
  },
  {
   "cell_type": "code",
   "execution_count": 11,
   "metadata": {},
   "outputs": [
    {
     "data": {
      "application/vnd.jupyter.widget-view+json": {
       "model_id": "a52fee85affd47a88786cef476549263",
       "version_major": 2,
       "version_minor": 0
      },
      "text/plain": [
       "FileChooser(path='/Users/sunellauni/Documents/UWE/IGP/foodie-team-6/v1', filename='', title='', show_hidden=Fa…"
      ]
     },
     "metadata": {},
     "output_type": "display_data"
    },
    {
     "name": "stdout",
     "output_type": "stream",
     "text": [
      "None\n"
     ]
    }
   ],
   "source": [
    "# ref - https://github.com/crahan/ipyfilechooser\n",
    "fc = FileChooser()\n",
    "fc.filter_pattern = ['*.jpg', '*.png', '*.jpeg']\n",
    "display(fc)\n",
    "img_path = fc.selected_path\n",
    "print(img_path)\n",
    "fc.reset()"
   ]
  },
  {
   "cell_type": "markdown",
   "metadata": {},
   "source": [
    "### Subtask 2\n",
    "* Init Google Vision, pass the image to the API, and get the json response back"
   ]
  },
  {
   "cell_type": "code",
   "execution_count": null,
   "metadata": {},
   "outputs": [],
   "source": [
    "# ref - https://codelabs.developers.google.com/codelabs/cloud-vision-api-python#1\n",
    "client = vision.ImageAnnotatorClient()\n",
    "image = vision.Image()\n",
    "image.source.image_uri = img_uri\n",
    "\n",
    "response = client.label_detection(image=image)"
   ]
  },
  {
   "cell_type": "markdown",
   "metadata": {},
   "source": [
    "### Subtask 3\n",
    "* Parse the json response, identify the labels (as an array)"
   ]
  },
  {
   "cell_type": "code",
   "execution_count": null,
   "metadata": {},
   "outputs": [],
   "source": [
    "labels = []\n",
    "for label in response.label_annotations:\n",
    "    print(label.description, '(%.2f%%)' % (label.score*100))\n",
    "    labels.append(label.description.lower())"
   ]
  },
  {
   "cell_type": "markdown",
   "metadata": {},
   "source": [
    "### Subtask 4\n",
    "* Text matching to find the first match between the label array and the calorie_counts dataset, identify the matching row"
   ]
  },
  {
   "cell_type": "code",
   "execution_count": null,
   "metadata": {},
   "outputs": [],
   "source": []
  },
  {
   "cell_type": "markdown",
   "metadata": {},
   "source": [
    "### Subtask 5\n",
    "* Identify the calorie count, format it (allow conversion between different units of measure)"
   ]
  },
  {
   "cell_type": "markdown",
   "metadata": {},
   "source": []
  }
 ],
 "metadata": {
  "interpreter": {
   "hash": "ad4efc98168ab38b08e64aa2fc02055880fa9a8646a17501f53b605319231c71"
  },
  "kernelspec": {
   "display_name": "Python 3.8.8 64-bit ('base': conda)",
   "language": "python",
   "name": "python3"
  },
  "language_info": {
   "codemirror_mode": {
    "name": "ipython",
    "version": 3
   },
   "file_extension": ".py",
   "mimetype": "text/x-python",
   "name": "python",
   "nbconvert_exporter": "python",
   "pygments_lexer": "ipython3",
   "version": "3.8.8"
  },
  "orig_nbformat": 4
 },
 "nbformat": 4,
 "nbformat_minor": 2
}
